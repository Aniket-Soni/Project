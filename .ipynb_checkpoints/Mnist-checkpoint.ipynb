{
 "cells": [
  {
   "cell_type": "code",
   "execution_count": 1,
   "metadata": {},
   "outputs": [
    {
     "name": "stderr",
     "output_type": "stream",
     "text": [
      "Using TensorFlow backend.\n"
     ]
    }
   ],
   "source": [
    "from   keras.datasets  import  mnist"
   ]
  },
  {
   "cell_type": "code",
   "execution_count": 2,
   "metadata": {},
   "outputs": [],
   "source": [
    "dataset = mnist.load_data('mnist.db')"
   ]
  },
  {
   "cell_type": "code",
   "execution_count": 3,
   "metadata": {},
   "outputs": [],
   "source": [
    "train , test = dataset"
   ]
  },
  {
   "cell_type": "code",
   "execution_count": 4,
   "metadata": {},
   "outputs": [],
   "source": [
    "X_train , y_train = train"
   ]
  },
  {
   "cell_type": "code",
   "execution_count": 5,
   "metadata": {},
   "outputs": [],
   "source": [
    "X_test , y_test = test"
   ]
  },
  {
   "cell_type": "code",
   "execution_count": 6,
   "metadata": {},
   "outputs": [
    {
     "data": {
      "text/plain": [
       "(60000, 28, 28)"
      ]
     },
     "execution_count": 6,
     "metadata": {},
     "output_type": "execute_result"
    }
   ],
   "source": [
    "X_train.shape"
   ]
  },
  {
   "cell_type": "code",
   "execution_count": 7,
   "metadata": {},
   "outputs": [
    {
     "data": {
      "text/plain": [
       "(10000, 28, 28)"
      ]
     },
     "execution_count": 7,
     "metadata": {},
     "output_type": "execute_result"
    }
   ],
   "source": [
    "X_test.shape"
   ]
  },
  {
   "cell_type": "code",
   "execution_count": 8,
   "metadata": {},
   "outputs": [],
   "source": [
    "X_train = X_train.reshape(-1 , 28*28)\n",
    "X_test = X_test.reshape(-1 , 28*28)"
   ]
  },
  {
   "cell_type": "code",
   "execution_count": 9,
   "metadata": {},
   "outputs": [
    {
     "data": {
      "text/plain": [
       "(60000, 784)"
      ]
     },
     "execution_count": 9,
     "metadata": {},
     "output_type": "execute_result"
    }
   ],
   "source": [
    "X_train.shape"
   ]
  },
  {
   "cell_type": "code",
   "execution_count": 10,
   "metadata": {},
   "outputs": [
    {
     "data": {
      "text/plain": [
       "(60000,)"
      ]
     },
     "execution_count": 10,
     "metadata": {},
     "output_type": "execute_result"
    }
   ],
   "source": [
    "y_train.shape"
   ]
  },
  {
   "cell_type": "code",
   "execution_count": 11,
   "metadata": {},
   "outputs": [],
   "source": [
    "from  keras.utils.np_utils   import  to_categorical"
   ]
  },
  {
   "cell_type": "code",
   "execution_count": 12,
   "metadata": {},
   "outputs": [],
   "source": [
    "y_train = to_categorical(y_train)"
   ]
  },
  {
   "cell_type": "code",
   "execution_count": 13,
   "metadata": {},
   "outputs": [],
   "source": [
    "from keras.models import Sequential\n",
    "from keras.layers import Dense"
   ]
  },
  {
   "cell_type": "code",
   "execution_count": 14,
   "metadata": {},
   "outputs": [],
   "source": [
    "model = Sequential()"
   ]
  },
  {
   "cell_type": "code",
   "execution_count": 15,
   "metadata": {},
   "outputs": [],
   "source": [
    "model.add(Dense(units=512 , input_dim=28*28 , activation='relu'))\n",
    "model.add(Dense(units=256, activation='relu'))\n",
    "model.add(Dense(units=128, activation='relu'))\n",
    "model.add(Dense(units=32, activation='relu'))\n",
    "model.add(Dense(units=10, activation='softmax'))"
   ]
  },
  {
   "cell_type": "code",
   "execution_count": 16,
   "metadata": {},
   "outputs": [
    {
     "name": "stdout",
     "output_type": "stream",
     "text": [
      "Model: \"sequential_1\"\n",
      "_________________________________________________________________\n",
      "Layer (type)                 Output Shape              Param #   \n",
      "=================================================================\n",
      "dense_1 (Dense)              (None, 512)               401920    \n",
      "_________________________________________________________________\n",
      "dense_2 (Dense)              (None, 256)               131328    \n",
      "_________________________________________________________________\n",
      "dense_3 (Dense)              (None, 128)               32896     \n",
      "_________________________________________________________________\n",
      "dense_4 (Dense)              (None, 32)                4128      \n",
      "_________________________________________________________________\n",
      "dense_5 (Dense)              (None, 10)                330       \n",
      "=================================================================\n",
      "Total params: 570,602\n",
      "Trainable params: 570,602\n",
      "Non-trainable params: 0\n",
      "_________________________________________________________________\n"
     ]
    }
   ],
   "source": [
    "model.summary()"
   ]
  },
  {
   "cell_type": "code",
   "execution_count": 17,
   "metadata": {},
   "outputs": [],
   "source": [
    "from keras.optimizers import RMSprop"
   ]
  },
  {
   "cell_type": "code",
   "execution_count": 18,
   "metadata": {},
   "outputs": [],
   "source": [
    "model.compile(optimizer=RMSprop(), loss='categorical_crossentropy', \n",
    "             metrics=['accuracy']\n",
    "             )"
   ]
  },
  {
   "cell_type": "code",
   "execution_count": 20,
   "metadata": {},
   "outputs": [
    {
     "name": "stdout",
     "output_type": "stream",
     "text": [
      "Epoch 1/20\n",
      "60000/60000 [==============================] - 28s 467us/step - loss: 2.6563 - accuracy: 0.1183\n",
      "Epoch 2/20\n",
      "60000/60000 [==============================] - 22s 368us/step - loss: 2.3014 - accuracy: 0.1124\n",
      "Epoch 3/20\n",
      "60000/60000 [==============================] - 25s 416us/step - loss: 2.3014 - accuracy: 0.1124\n",
      "Epoch 4/20\n",
      "60000/60000 [==============================] - 23s 377us/step - loss: 2.3013 - accuracy: 0.1124\n",
      "Epoch 5/20\n",
      "60000/60000 [==============================] - 23s 378us/step - loss: 2.3014 - accuracy: 0.1124\n",
      "Epoch 6/20\n",
      "60000/60000 [==============================] - 23s 376us/step - loss: 2.3014 - accuracy: 0.1124\n",
      "Epoch 7/20\n",
      "60000/60000 [==============================] - 23s 381us/step - loss: 2.3014 - accuracy: 0.1124\n",
      "Epoch 8/20\n",
      "60000/60000 [==============================] - 23s 382us/step - loss: 2.3013 - accuracy: 0.1124\n",
      "Epoch 9/20\n",
      "60000/60000 [==============================] - 23s 380us/step - loss: 2.3013 - accuracy: 0.1124\n",
      "Epoch 10/20\n",
      "60000/60000 [==============================] - 23s 382us/step - loss: 2.3014 - accuracy: 0.1124\n",
      "Epoch 11/20\n",
      "60000/60000 [==============================] - 23s 378us/step - loss: 2.3013 - accuracy: 0.1124\n",
      "Epoch 12/20\n",
      "60000/60000 [==============================] - 23s 385us/step - loss: 2.3013 - accuracy: 0.1124\n",
      "Epoch 13/20\n",
      "60000/60000 [==============================] - 23s 384us/step - loss: 2.3014 - accuracy: 0.1124\n",
      "Epoch 14/20\n",
      "60000/60000 [==============================] - 24s 397us/step - loss: 2.3013 - accuracy: 0.1124\n",
      "Epoch 15/20\n",
      "60000/60000 [==============================] - 23s 385us/step - loss: 2.3013 - accuracy: 0.1124\n",
      "Epoch 16/20\n",
      "60000/60000 [==============================] - 23s 375us/step - loss: 2.3013 - accuracy: 0.1124\n",
      "Epoch 17/20\n",
      "60000/60000 [==============================] - 23s 381us/step - loss: 2.3013 - accuracy: 0.1124\n",
      "Epoch 18/20\n",
      "60000/60000 [==============================] - 23s 380us/step - loss: 2.3014 - accuracy: 0.1124\n",
      "Epoch 19/20\n",
      "60000/60000 [==============================] - 23s 382us/step - loss: 2.3013 - accuracy: 0.1124\n",
      "Epoch 20/20\n",
      "60000/60000 [==============================] - 23s 382us/step - loss: 2.3013 - accuracy: 0.1124\n"
     ]
    },
    {
     "data": {
      "text/plain": [
       "<keras.callbacks.callbacks.History at 0x22f929b4d08>"
      ]
     },
     "execution_count": 20,
     "metadata": {},
     "output_type": "execute_result"
    }
   ],
   "source": [
    "model.fit(X_train, y_train, epochs=20)"
   ]
  },
  {
   "cell_type": "code",
   "execution_count": null,
   "metadata": {},
   "outputs": [],
   "source": []
  }
 ],
 "metadata": {
  "kernelspec": {
   "display_name": "Python 3",
   "language": "python",
   "name": "python3"
  },
  "language_info": {
   "codemirror_mode": {
    "name": "ipython",
    "version": 3
   },
   "file_extension": ".py",
   "mimetype": "text/x-python",
   "name": "python",
   "nbconvert_exporter": "python",
   "pygments_lexer": "ipython3",
   "version": "3.7.7"
  }
 },
 "nbformat": 4,
 "nbformat_minor": 4
}
